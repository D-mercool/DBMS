{
 "cells": [
  {
   "cell_type": "markdown",
   "metadata": {
    "colab_type": "text",
    "id": "view-in-github"
   },
   "source": [
    "<a href=\"https://colab.research.google.com/github/kekafon/DBMS/blob/master/task0.ipynb\" target=\"_parent\"><img src=\"https://colab.research.google.com/assets/colab-badge.svg\" alt=\"Open In Colab\"/></a>"
   ]
  },
  {
   "cell_type": "code",
   "execution_count": 1,
   "metadata": {
    "colab": {},
    "colab_type": "code",
    "id": "_xQKHrOdg9jr"
   },
   "outputs": [],
   "source": [
    "import random"
   ]
  },
  {
   "cell_type": "code",
   "execution_count": 2,
   "metadata": {
    "colab": {},
    "colab_type": "code",
    "id": "hDE68vlAfR4u"
   },
   "outputs": [],
   "source": [
    "def find_min(values):\n",
    "    minimum = values[0]\n",
    "    for i in values:\n",
    "        if i <= minimum:\n",
    "            minimum = i\n",
    "    return minimum\n",
    "\n",
    "def enter_size():\n",
    "    MAX_SIZE = 100\n",
    "    while True:\n",
    "        try:\n",
    "            size = int(input(f'Введите размер массива (больше нуля и меньше или равно {MAX_SIZE}): '))\n",
    "            if 0 < size <= MAX_SIZE:\n",
    "                break\n",
    "            else:\n",
    "                print('Введённое число не соответствует заданному диапазону. Попробуйте еще раз')\n",
    "        except ValueError:\n",
    "            print('Вы ввели не целое число. Попробуйте еще раз')\n",
    "            \n",
    "    return size\n",
    "\n",
    "def get_random_value(minimum = 1, maximum = 100):\n",
    "    return random.uniform(minimum, maximum)\n",
    "\n",
    "def get_random_values(size, minimum = 1, maximum = 100):\n",
    "    return [get_random_value(minimum, maximum) for _ in range(size)]"
   ]
  },
  {
   "cell_type": "code",
   "execution_count": 3,
   "metadata": {
    "colab": {
     "base_uri": "https://localhost:8080/",
     "height": 34
    },
    "colab_type": "code",
    "id": "3Y3Ci3D0gPvy",
    "outputId": "0fad1c6a-9b70-4e1e-84d9-2cbe23f0878d"
   },
   "outputs": [
    {
     "name": "stdout",
     "output_type": "stream",
     "text": [
      "Введите размер массива (больше нуля и меньше или равно 100): -5\n",
      "Введённое число не соответствует заданному диапазону. Попробуйте еще раз\n",
      "Введите размер массива (больше нуля и меньше или равно 100): fgfg\n",
      "Вы ввели не целое число. Попробуйте еще раз\n",
      "Введите размер массива (больше нуля и меньше или равно 100): 545\n",
      "Введённое число не соответствует заданному диапазону. Попробуйте еще раз\n",
      "Введите размер массива (больше нуля и меньше или равно 100): 4\n"
     ]
    }
   ],
   "source": [
    "size = enter_size()\n",
    "values =get_random_values(size)\n",
    "minimum = find_min(values)"
   ]
  },
  {
   "cell_type": "code",
   "execution_count": 4,
   "metadata": {
    "colab": {
     "base_uri": "https://localhost:8080/",
     "height": 34
    },
    "colab_type": "code",
    "id": "jyz176j4gkgF",
    "outputId": "85b13673-b7ae-4ca7-e95d-bce12850b335"
   },
   "outputs": [
    {
     "name": "stdout",
     "output_type": "stream",
     "text": [
      "Последовательность: [1.5448293852073962, 99.20866465144113, 88.3568249090918, 77.00536369032163]\n",
      "\n",
      "Минимальный элемент: 1.5448293852073962\n"
     ]
    }
   ],
   "source": [
    "print('Последовательность:', values)\n",
    "print('\\nМинимальный элемент:', minimum)"
   ]
  }
 ],
 "metadata": {
  "colab": {
   "authorship_tag": "ABX9TyP8hMwYVZhQ2GYrZFaekhJc",
   "collapsed_sections": [],
   "include_colab_link": true,
   "name": "task0.ipynb",
   "provenance": []
  },
  "kernelspec": {
   "display_name": "Python 3",
   "language": "python",
   "name": "python3"
  },
  "language_info": {
   "codemirror_mode": {
    "name": "ipython",
    "version": 3
   },
   "file_extension": ".py",
   "mimetype": "text/x-python",
   "name": "python",
   "nbconvert_exporter": "python",
   "pygments_lexer": "ipython3",
   "version": "3.7.4"
  }
 },
 "nbformat": 4,
 "nbformat_minor": 1
}
