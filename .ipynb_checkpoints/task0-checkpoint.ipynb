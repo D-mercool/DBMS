{
 "cells": [
  {
   "cell_type": "markdown",
   "metadata": {
    "colab_type": "text",
    "id": "view-in-github"
   },
   "source": [
    "<a href=\"https://colab.research.google.com/github/kekafon/DBMS/blob/master/task0.ipynb\" target=\"_parent\"><img src=\"https://colab.research.google.com/assets/colab-badge.svg\" alt=\"Open In Colab\"/></a>"
   ]
  },
  {
   "cell_type": "code",
   "execution_count": 15,
   "metadata": {
    "colab": {},
    "colab_type": "code",
    "id": "_xQKHrOdg9jr"
   },
   "outputs": [],
   "source": [
    "import random"
   ]
  },
  {
   "cell_type": "code",
   "execution_count": 16,
   "metadata": {
    "colab": {},
    "colab_type": "code",
    "id": "hDE68vlAfR4u"
   },
   "outputs": [],
   "source": [
    "def find_min(values):\n",
    "    minimum = values[0]\n",
    "    for i in values:\n",
    "        if i <= minimum:\n",
    "            minimum = i\n",
    "    return minimum\n",
    "\n",
    "def enter_size():\n",
    "    while True:\n",
    "        try:\n",
    "            size = int(input('Введите размер массива (больше нуля и меньше 100): '))\n",
    "            if 0 < size <= 100:\n",
    "                break\n",
    "            else:\n",
    "                print('Введенной число не соответствует заданному диапазону. Попробуйте еще раз')\n",
    "        except ValueError:\n",
    "            print('Вы ввели не число. Попробуйте еще раз')\n",
    "            \n",
    "    return size"
   ]
  },
  {
   "cell_type": "code",
   "execution_count": 17,
   "metadata": {
    "colab": {
     "base_uri": "https://localhost:8080/",
     "height": 34
    },
    "colab_type": "code",
    "id": "3Y3Ci3D0gPvy",
    "outputId": "0fad1c6a-9b70-4e1e-84d9-2cbe23f0878d"
   },
   "outputs": [
    {
     "name": "stdout",
     "output_type": "stream",
     "text": [
      "Введите размер массива (больше нуля и меньше 100): 4545\n",
      "Введенной число не соответствует заданному диапазону. Попробуйте еще раз\n",
      "Введите размер массива (больше нуля и меньше 100): -`\n",
      "Вы ввели не число. Попробуйте еще раз\n",
      "Введите размер массива (больше нуля и меньше 100): dff\n",
      "Вы ввели не число. Попробуйте еще раз\n",
      "Введите размер массива (больше нуля и меньше 100): -1\n",
      "Введенной число не соответствует заданному диапазону. Попробуйте еще раз\n",
      "Введите размер массива (больше нуля и меньше 100): 5\n"
     ]
    }
   ],
   "source": [
    "size = enter_size()\n",
    "values = [random.uniform(1, 100) for _ in range(size)]\n",
    "minimum = find_min(values)"
   ]
  },
  {
   "cell_type": "code",
   "execution_count": 18,
   "metadata": {
    "colab": {
     "base_uri": "https://localhost:8080/",
     "height": 34
    },
    "colab_type": "code",
    "id": "jyz176j4gkgF",
    "outputId": "85b13673-b7ae-4ca7-e95d-bce12850b335"
   },
   "outputs": [
    {
     "name": "stdout",
     "output_type": "stream",
     "text": [
      "Минимальный элемент: 6.981987252878262\n"
     ]
    }
   ],
   "source": [
    "print('Минимальный элемент:', minimum)"
   ]
  },
  {
   "cell_type": "code",
   "execution_count": null,
   "metadata": {},
   "outputs": [],
   "source": []
  }
 ],
 "metadata": {
  "colab": {
   "authorship_tag": "ABX9TyP8hMwYVZhQ2GYrZFaekhJc",
   "collapsed_sections": [],
   "include_colab_link": true,
   "name": "task0.ipynb",
   "provenance": []
  },
  "kernelspec": {
   "display_name": "Python 3",
   "language": "python",
   "name": "python3"
  },
  "language_info": {
   "codemirror_mode": {
    "name": "ipython",
    "version": 3
   },
   "file_extension": ".py",
   "mimetype": "text/x-python",
   "name": "python",
   "nbconvert_exporter": "python",
   "pygments_lexer": "ipython3",
   "version": "3.7.4"
  }
 },
 "nbformat": 4,
 "nbformat_minor": 1
}
