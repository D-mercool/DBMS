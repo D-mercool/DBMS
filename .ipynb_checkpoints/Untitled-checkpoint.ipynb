{
 "cells": [
  {
   "cell_type": "code",
   "execution_count": 67,
   "metadata": {},
   "outputs": [
    {
     "name": "stdout",
     "output_type": "stream",
     "text": [
      "Введите список объектов через запятую.\n",
      "Если хотите записать строку (пример:\"ваша_строка\")\n",
      "Если хотите записать число кавычки не нужны (пример: \"a\",\"bc\",5): 'a,5,\"feff\"\"\n"
     ]
    }
   ],
   "source": [
    "import re\n",
    "mass = input('Введите список объектов через запятую.' +\n",
    "             '\\nЕсли хотите записать строку (пример:\"ваша_строка\")'+\n",
    "             '\\nЕсли хотите записать число кавычки не нужны (пример: \"a\",\"bc\",5): ').split(',')"
   ]
  },
  {
   "cell_type": "code",
   "execution_count": 75,
   "metadata": {},
   "outputs": [],
   "source": [
    "element = []\n",
    "for i in mass:\n",
    "    if re.findall(r'[0-9]+\\.[0-9]+', i) or re.findall(r'\\d+', i):\n",
    "        element.append(float(i))\n",
    "    elif re.findall(r'\"\\w+\"', i):\n",
    "        try:\n",
    "            element.append(re.findall(r'\"\\w+\"', '\"ahjhj\"')[0][1:-1])\n",
    "        except Exception:\n",
    "            continue"
   ]
  },
  {
   "cell_type": "code",
   "execution_count": 76,
   "metadata": {},
   "outputs": [
    {
     "data": {
      "text/plain": [
       "[5.0, 'ahjhj']"
      ]
     },
     "execution_count": 76,
     "metadata": {},
     "output_type": "execute_result"
    }
   ],
   "source": [
    "element"
   ]
  },
  {
   "cell_type": "code",
   "execution_count": null,
   "metadata": {},
   "outputs": [],
   "source": []
  }
 ],
 "metadata": {
  "kernelspec": {
   "display_name": "Python 3",
   "language": "python",
   "name": "python3"
  },
  "language_info": {
   "codemirror_mode": {
    "name": "ipython",
    "version": 3
   },
   "file_extension": ".py",
   "mimetype": "text/x-python",
   "name": "python",
   "nbconvert_exporter": "python",
   "pygments_lexer": "ipython3",
   "version": "3.7.4"
  }
 },
 "nbformat": 4,
 "nbformat_minor": 4
}
