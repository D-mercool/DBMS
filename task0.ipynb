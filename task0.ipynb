{
  "nbformat": 4,
  "nbformat_minor": 0,
  "metadata": {
    "colab": {
      "name": "task0.ipynb",
      "provenance": [],
      "collapsed_sections": [],
      "authorship_tag": "ABX9TyP8hMwYVZhQ2GYrZFaekhJc",
      "include_colab_link": true
    },
    "kernelspec": {
      "name": "python3",
      "display_name": "Python 3"
    }
  },
  "cells": [
    {
      "cell_type": "markdown",
      "metadata": {
        "id": "view-in-github",
        "colab_type": "text"
      },
      "source": [
        "<a href=\"https://colab.research.google.com/github/kekafon/DBMS/blob/master/task0.ipynb\" target=\"_parent\"><img src=\"https://colab.research.google.com/assets/colab-badge.svg\" alt=\"Open In Colab\"/></a>"
      ]
    },
    {
      "cell_type": "code",
      "metadata": {
        "id": "_xQKHrOdg9jr",
        "colab_type": "code",
        "colab": {}
      },
      "source": [
        "import random"
      ],
      "execution_count": null,
      "outputs": []
    },
    {
      "cell_type": "code",
      "metadata": {
        "id": "hDE68vlAfR4u",
        "colab_type": "code",
        "colab": {}
      },
      "source": [
        "def find_min(values):\n",
        "  min = values[0]\n",
        "  for i in values:\n",
        "    if i <= min:\n",
        "      min = i\n",
        "\n",
        "  return min"
      ],
      "execution_count": null,
      "outputs": []
    },
    {
      "cell_type": "code",
      "metadata": {
        "id": "3Y3Ci3D0gPvy",
        "colab_type": "code",
        "colab": {
          "base_uri": "https://localhost:8080/",
          "height": 34
        },
        "outputId": "0fad1c6a-9b70-4e1e-84d9-2cbe23f0878d"
      },
      "source": [
        "size = int(input())\n",
        "\n",
        "values = [random.uniform(1, 100) for _ in range(size)]\n",
        "min = find_min(values)"
      ],
      "execution_count": null,
      "outputs": [
        {
          "output_type": "stream",
          "text": [
            "25\n"
          ],
          "name": "stdout"
        }
      ]
    },
    {
      "cell_type": "code",
      "metadata": {
        "id": "jyz176j4gkgF",
        "colab_type": "code",
        "colab": {
          "base_uri": "https://localhost:8080/",
          "height": 34
        },
        "outputId": "85b13673-b7ae-4ca7-e95d-bce12850b335"
      },
      "source": [
        "print('Минимальный элемент:', min)"
      ],
      "execution_count": null,
      "outputs": [
        {
          "output_type": "stream",
          "text": [
            "Минимальный элемент: 4.691535677824055\n"
          ],
          "name": "stdout"
        }
      ]
    }
  ]
}